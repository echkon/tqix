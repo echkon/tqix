{
 "cells": [
  {
   "cell_type": "code",
   "execution_count": 1,
   "metadata": {},
   "outputs": [],
   "source": [
    "import numpy as np\n",
    "import onecircuit\n",
    "from onecircuit import *\n"
   ]
  },
  {
   "cell_type": "code",
   "execution_count": 2,
   "metadata": {},
   "outputs": [],
   "source": [
    "num_qubits = 3\n",
    "num_layers = 1\n",
    "phase = [np.pi/6., np.pi/6., np.pi/6.]\n",
    "time = 1.0\n",
    "y = lamb2y(time,lamb = 0.1) #dephasing, convert lambda to gamma\n",
    "\n",
    "prep = [stargraph, num_qubits, num_layers, []]\n",
    "sens = [sensing_qc, num_qubits, time, phase]\n",
    "nois = [dephasing_qc, num_qubits, time, y]\n",
    "post = [stargraph_inv, num_qubits, num_layers, []]\n",
    "\n",
    "circuit = [prep, sens, nois, post]"
   ]
  },
  {
   "cell_type": "code",
   "execution_count": 3,
   "metadata": {},
   "outputs": [
    {
     "name": "stdout",
     "output_type": "stream",
     "text": [
      "     ┌───────┐   ┌───────┐    ░ ┌────────────┐┌─────────────────┐ ░    »\n",
      "q_0: ┤ Ry(1) ├─■─┤ Ry(1) ├─■──░─┤ sensing_qc ├┤ Quantum_channel ├─░──■─»\n",
      "     ├───────┤ │ └───────┘ │  ░ ├────────────┤├─────────────────┤ ░  │ »\n",
      "q_1: ┤ Ry(1) ├─■───────────┼──░─┤ sensing_qc ├┤ Quantum_channel ├─░──┼─»\n",
      "     ├───────┤             │  ░ ├────────────┤├─────────────────┤ ░  │ »\n",
      "q_2: ┤ Ry(1) ├─────────────■──░─┤ sensing_qc ├┤ Quantum_channel ├─░──■─»\n",
      "     └───────┘                ░ └────────────┘└─────────────────┘ ░    »\n",
      "«     ┌────────┐   ┌────────┐\n",
      "«q_0: ┤ Ry(-1) ├─■─┤ Ry(-1) ├\n",
      "«     └────────┘ │ ├────────┤\n",
      "«q_1: ───────────■─┤ Ry(-1) ├\n",
      "«     ┌────────┐   └────────┘\n",
      "«q_2: ┤ Ry(-1) ├─────────────\n",
      "«     └────────┘             \n",
      "0 0.5402760855219262\n",
      "5 0.49988513616107233\n",
      "10 0.477871007831586\n",
      "15 0.4625205817773272\n",
      "20 0.4513047512700008\n",
      "25 0.4432924453829057\n",
      "30 0.4374499993439144\n",
      "35 0.4321117750262451\n",
      "40 0.4274085757767708\n",
      "45 0.42364899427377767\n",
      "50 0.42066092936134825\n",
      "55 0.4175321569634781\n",
      "60 0.4137539349397922\n",
      "65 0.409330194140494\n",
      "70 0.4042159660200476\n",
      "75 0.39841859747146324\n",
      "80 0.39202668844236926\n",
      "85 0.3852286708560997\n",
      "90 0.37831987033281267\n",
      "95 0.371721983856436\n",
      "100 0.3654118961328444\n",
      "105 0.3594993067236286\n",
      "110 0.3540739786650615\n",
      "115 0.3491046287613959\n",
      "120 0.3445390557124649\n",
      "125 0.34042916274904117\n",
      "130 0.3365625698453952\n",
      "135 0.33305305234108407\n",
      "140 0.32975090265252316\n",
      "145 0.32683972098702563\n",
      "150 0.32404122841333716\n",
      "155 0.32132519188217357\n",
      "160 0.3190088990411505\n",
      "165 0.3173969188590904\n",
      "170 0.31581446289017256\n",
      "175 0.3147250582351383\n",
      "180 0.31403359163891753\n",
      "185 0.3139135503538284\n",
      "190 0.3138925095891163\n",
      "195 0.31391728781326544\n",
      "200 0.31389563559614736\n",
      "Data has been written to save_pkl\n"
     ]
    },
    {
     "data": {
      "text/plain": [
       "(0.0, 201.0)"
      ]
     },
     "execution_count": 3,
     "metadata": {},
     "output_type": "execute_result"
    },
    {
     "data": {
      "image/png": "[encoded data removed]",
      "text/plain": [
       "<Figure size 640x480 with 1 Axes>"
      ]
     },
     "metadata": {},
     "output_type": "display_data"
    }
   ],
   "source": [
    "# training sld bound\n",
    "import matplotlib.pyplot as plt\n",
    "num_steps = 201\n",
    "\n",
    "vqc = VariationalCircuit(circuit)\n",
    "vqc.print()\n",
    "circuit,costs = vqc.fit(num_steps, cost_func = sld_bound, train_opt = [0], method = 'two_point', learning_rate = 0.5)\n",
    "\n",
    "vqc.save('save_pkl')\n",
    "#plot\n",
    "iterations = list(range(len(costs)))\n",
    "plt.plot(iterations, np.real(costs), '-')\n",
    "plt.xlim(0, num_steps)\n",
    "\n"
   ]
  },
  {
   "cell_type": "code",
   "execution_count": 4,
   "metadata": {},
   "outputs": [
    {
     "name": "stdout",
     "output_type": "stream",
     "text": [
      "3.1130105336583793 0.31389563559614736\n"
     ]
    }
   ],
   "source": [
    "import pickle\n",
    "\n",
    "# Load data from a file using pickle\n",
    "with open('save_pkl', 'rb') as file:\n",
    "    loaded_circuit = pickle.load(file)\n",
    "\n",
    "# cls bound and quantum bound\n",
    "clasical_bound = cls_bound(loaded_circuit)\n",
    "quantum_bound = sld_bound(loaded_circuit)\n",
    "\n",
    "print(clasical_bound, quantum_bound)"
   ]
  },
  {
   "cell_type": "code",
   "execution_count": 5,
   "metadata": {},
   "outputs": [
    {
     "name": "stdout",
     "output_type": "stream",
     "text": [
      "<function stargraph at 0x10ac6f250>\n"
     ]
    }
   ],
   "source": [
    "print(vqc.u0.func)"
   ]
  }
 ],
 "metadata": {
  "kernelspec": {
   "display_name": "base",
   "language": "python",
   "name": "python3"
  },
  "language_info": {
   "codemirror_mode": {
    "name": "ipython",
    "version": 3
   },
   "file_extension": ".py",
   "mimetype": "text/x-python",
   "name": "python",
   "nbconvert_exporter": "python",
   "pygments_lexer": "ipython3",
   "version": "3.10.2"
  }
 },
 "nbformat": 4,
 "nbformat_minor": 4
}
